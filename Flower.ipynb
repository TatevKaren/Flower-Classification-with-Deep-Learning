{
  "nbformat": 4,
  "nbformat_minor": 0,
  "metadata": {
    "colab": {
      "name": "Flower.ipynb",
      "provenance": [],
      "collapsed_sections": []
    },
    "kernelspec": {
      "name": "python3",
      "display_name": "Python 3"
    },
    "accelerator": "GPU"
  },
  "cells": [
    {
      "cell_type": "markdown",
      "metadata": {
        "id": "tVDlJwRx0RZt"
      },
      "source": [
        "## LIBRARY"
      ]
    },
    {
      "cell_type": "code",
      "metadata": {
        "id": "lctQuwvc0QxK"
      },
      "source": [
        "import keras\n",
        "from keras.layers import Dense, Flatten, Activation, Dropout\n",
        "from keras.models import Sequential\n",
        "\n",
        "from keras.applications.resnet50 import ResNet50\n",
        "from keras.applications.resnet_v2 import ResNet152V2\n",
        "from keras.applications.vgg19 import VGG19\n",
        "from keras.applications.xception import Xception\n",
        "from keras.applications.vgg16 import VGG16\n",
        "\n",
        "from keras.preprocessing.image import img_to_array, ImageDataGenerator\n",
        "from keras.callbacks import EarlyStopping, ModelCheckpoint\n",
        "\n",
        "import matplotlib.pyplot as plt\n",
        "from glob import glob"
      ],
      "execution_count": 155,
      "outputs": []
    },
    {
      "cell_type": "markdown",
      "metadata": {
        "id": "Md1QQBi-77Sc"
      },
      "source": [
        "## PATH"
      ]
    },
    {
      "cell_type": "code",
      "metadata": {
        "id": "oYIiezQ37_w5"
      },
      "source": [
        "train_path = \"flowers/Train\"\n",
        "test_path = \"flowers/Test\""
      ],
      "execution_count": 156,
      "outputs": []
    },
    {
      "cell_type": "markdown",
      "metadata": {
        "id": "iQkkrq-59XL6"
      },
      "source": [
        "## DATA AUGMENTATION"
      ]
    },
    {
      "cell_type": "code",
      "metadata": {
        "id": "hrUZICDD9WZQ",
        "outputId": "f31dda29-fc53-435e-bf01-485e46fb2905",
        "colab": {
          "base_uri": "https://localhost:8080/",
          "height": 50
        }
      },
      "source": [
        "train_datagen = ImageDataGenerator(rescale=1./255,\n",
        "                                  featurewise_center=True,\n",
        "                                  featurewise_std_normalization=True,\n",
        "                                  rotation_range=20,\n",
        "                                  width_shift_range=0.2,\n",
        "                                  height_shift_range=0.2,\n",
        "                                  horizontal_flip=True)\n",
        "\n",
        "train_generator = train_datagen.flow_from_directory(\n",
        "                                  train_path,\n",
        "                                  target_size=(224,224),\n",
        "                                  color_mode=\"rgb\",\n",
        "                                  class_mode=\"categorical\")\n",
        "\n",
        "test_datagen = ImageDataGenerator(rescale=1./255,\n",
        "                                  horizontal_flip=True)\n",
        "\n",
        "test_generator = test_datagen.flow_from_directory(\n",
        "                                  test_path,\n",
        "                                  target_size=(224,224),\n",
        "                                  color_mode=\"rgb\",\n",
        "                                  class_mode=\"categorical\")\n",
        "\n"
      ],
      "execution_count": 157,
      "outputs": [
        {
          "output_type": "stream",
          "text": [
            "Found 4231 images belonging to 5 classes.\n",
            "Found 92 images belonging to 5 classes.\n"
          ],
          "name": "stdout"
        }
      ]
    },
    {
      "cell_type": "markdown",
      "metadata": {
        "id": "299M2V2gCg4g"
      },
      "source": [
        "## NUMBER OF CLASS"
      ]
    },
    {
      "cell_type": "code",
      "metadata": {
        "id": "Er1ViFrrCxnr",
        "outputId": "443cf7bc-40f0-46b5-e4fa-3733e3eff014",
        "colab": {
          "base_uri": "https://localhost:8080/",
          "height": 34
        }
      },
      "source": [
        "className = glob(train_path +'/*')\n",
        "numberOfClass=len(className)\n",
        "print(\"Number Of Class: \", numberOfClass)"
      ],
      "execution_count": 158,
      "outputs": [
        {
          "output_type": "stream",
          "text": [
            "Number Of Class:  5\n"
          ],
          "name": "stdout"
        }
      ]
    },
    {
      "cell_type": "markdown",
      "metadata": {
        "id": "xHodAefd1FWA"
      },
      "source": [
        "## MODEL"
      ]
    },
    {
      "cell_type": "code",
      "metadata": {
        "id": "bVYGFzNJ0X6q"
      },
      "source": [
        "# Keras Application --> ResNet50, ResNet152V2, VGG19, VGG16, Xception\n",
        "application_model = VGG16(include_top=False, weights='imagenet',input_shape=(224,224,3))\n",
        "application_model.trainable = False\n",
        "\n",
        "model = Sequential()\n",
        "\n",
        "model.add(application_model)\n",
        "model.add(Flatten())\n",
        "model.add(Dense(128))\n",
        "model.add(Activation('relu'))\n",
        "model.add(Dropout(0.5))\n",
        "model.add(Dense(numberOfClass))\n",
        "model.add(Activation('softmax'))"
      ],
      "execution_count": null,
      "outputs": []
    },
    {
      "cell_type": "markdown",
      "metadata": {
        "id": "VXVZ_xDdFuvL"
      },
      "source": [
        "## COMPILE"
      ]
    },
    {
      "cell_type": "code",
      "metadata": {
        "id": "6ujZRBMDFuG4"
      },
      "source": [
        "model.compile(optimizer='rmsprop', loss='categorical_crossentropy', metrics=['accuracy'])"
      ],
      "execution_count": 160,
      "outputs": []
    },
    {
      "cell_type": "markdown",
      "metadata": {
        "id": "Q2c4bKy7GZJr"
      },
      "source": [
        "## MODEL CHECKPOINT & EARLY STOPPING"
      ]
    },
    {
      "cell_type": "code",
      "metadata": {
        "id": "DZwPQDtq0O1s"
      },
      "source": [
        "model_checkpoint = ModelCheckpoint(\n",
        "    filepath='flowers_application.h5',\n",
        "    save_weights_only=True,\n",
        "    monitor='val_accuracy',\n",
        "    mode='max',\n",
        "    save_best_only=True)\n",
        "\n",
        "early = EarlyStopping(\n",
        "    monitor=\"val_loss\",\n",
        "    min_delta=0,\n",
        "    patience=0,\n",
        "    verbose=0,\n",
        "    mode=\"auto\",\n",
        "    baseline=None,\n",
        "    restore_best_weights=False,\n",
        ")"
      ],
      "execution_count": 161,
      "outputs": []
    },
    {
      "cell_type": "markdown",
      "metadata": {
        "id": "jblkxtSlGsSa"
      },
      "source": [
        "## FIT"
      ]
    },
    {
      "cell_type": "code",
      "metadata": {
        "id": "WUcZ_T17GgUI",
        "outputId": "ff14908f-6bb0-4ee1-aec5-e26cd4375f9a",
        "colab": {
          "base_uri": "https://localhost:8080/",
          "height": 776
        }
      },
      "source": [
        "batch_size = 32\n",
        "epochs = 20\n",
        "\n",
        "hist = model.fit_generator(generator=train_generator,\n",
        "                           steps_per_epoch = 4240 // batch_size,\n",
        "                           epochs = epochs,\n",
        "                           verbose = 1,\n",
        "                           callbacks =[model_checkpoint],\n",
        "                           validation_data = test_generator)"
      ],
      "execution_count": 162,
      "outputs": [
        {
          "output_type": "stream",
          "text": [
            "/usr/local/lib/python3.6/dist-packages/keras_preprocessing/image/image_data_generator.py:720: UserWarning: This ImageDataGenerator specifies `featurewise_center`, but it hasn't been fit on any training data. Fit it first by calling `.fit(numpy_data)`.\n",
            "  warnings.warn('This ImageDataGenerator specifies '\n",
            "/usr/local/lib/python3.6/dist-packages/keras_preprocessing/image/image_data_generator.py:728: UserWarning: This ImageDataGenerator specifies `featurewise_std_normalization`, but it hasn't been fit on any training data. Fit it first by calling `.fit(numpy_data)`.\n",
            "  warnings.warn('This ImageDataGenerator specifies '\n"
          ],
          "name": "stderr"
        },
        {
          "output_type": "stream",
          "text": [
            "Epoch 1/20\n",
            "132/132 [==============================] - 62s 473ms/step - loss: 1.6997 - accuracy: 0.4513 - val_loss: 0.9450 - val_accuracy: 0.7500\n",
            "Epoch 2/20\n",
            "132/132 [==============================] - 62s 472ms/step - loss: 1.0755 - accuracy: 0.5889 - val_loss: 0.8737 - val_accuracy: 0.6630\n",
            "Epoch 3/20\n",
            "132/132 [==============================] - 62s 471ms/step - loss: 0.9924 - accuracy: 0.6073 - val_loss: 0.7665 - val_accuracy: 0.7174\n",
            "Epoch 4/20\n",
            "132/132 [==============================] - 62s 469ms/step - loss: 0.9204 - accuracy: 0.6530 - val_loss: 0.6299 - val_accuracy: 0.7935\n",
            "Epoch 5/20\n",
            "132/132 [==============================] - 61s 462ms/step - loss: 0.9096 - accuracy: 0.6540 - val_loss: 0.6594 - val_accuracy: 0.7717\n",
            "Epoch 6/20\n",
            "132/132 [==============================] - 62s 471ms/step - loss: 0.8809 - accuracy: 0.6563 - val_loss: 0.6570 - val_accuracy: 0.7609\n",
            "Epoch 7/20\n",
            "132/132 [==============================] - 64s 485ms/step - loss: 0.8581 - accuracy: 0.6706 - val_loss: 0.6288 - val_accuracy: 0.7609\n",
            "Epoch 8/20\n",
            "132/132 [==============================] - 64s 488ms/step - loss: 0.8167 - accuracy: 0.6916 - val_loss: 0.7580 - val_accuracy: 0.7391\n",
            "Epoch 9/20\n",
            "132/132 [==============================] - 63s 481ms/step - loss: 0.8210 - accuracy: 0.6937 - val_loss: 0.6266 - val_accuracy: 0.7500\n",
            "Epoch 10/20\n",
            "132/132 [==============================] - 65s 491ms/step - loss: 0.7978 - accuracy: 0.6852 - val_loss: 0.6693 - val_accuracy: 0.7717\n",
            "Epoch 11/20\n",
            "132/132 [==============================] - 66s 499ms/step - loss: 0.7937 - accuracy: 0.7073 - val_loss: 0.6306 - val_accuracy: 0.7935\n",
            "Epoch 12/20\n",
            "132/132 [==============================] - 66s 502ms/step - loss: 0.7967 - accuracy: 0.6899 - val_loss: 0.7222 - val_accuracy: 0.7500\n",
            "Epoch 13/20\n",
            "132/132 [==============================] - 65s 495ms/step - loss: 0.7856 - accuracy: 0.6992 - val_loss: 0.7539 - val_accuracy: 0.7717\n",
            "Epoch 14/20\n",
            "132/132 [==============================] - 65s 494ms/step - loss: 0.7874 - accuracy: 0.7056 - val_loss: 0.6908 - val_accuracy: 0.7609\n",
            "Epoch 15/20\n",
            "132/132 [==============================] - 66s 498ms/step - loss: 0.7614 - accuracy: 0.7202 - val_loss: 0.6625 - val_accuracy: 0.7283\n",
            "Epoch 16/20\n",
            "132/132 [==============================] - 65s 496ms/step - loss: 0.7594 - accuracy: 0.7190 - val_loss: 0.7472 - val_accuracy: 0.7935\n",
            "Epoch 17/20\n",
            "132/132 [==============================] - 64s 487ms/step - loss: 0.7663 - accuracy: 0.7199 - val_loss: 0.6079 - val_accuracy: 0.7826\n",
            "Epoch 18/20\n",
            "132/132 [==============================] - 64s 486ms/step - loss: 0.7441 - accuracy: 0.7183 - val_loss: 0.6680 - val_accuracy: 0.7826\n",
            "Epoch 19/20\n",
            "132/132 [==============================] - 64s 488ms/step - loss: 0.7659 - accuracy: 0.7206 - val_loss: 0.6837 - val_accuracy: 0.7717\n",
            "Epoch 20/20\n",
            "132/132 [==============================] - 66s 497ms/step - loss: 0.7337 - accuracy: 0.7254 - val_loss: 0.6463 - val_accuracy: 0.8043\n"
          ],
          "name": "stdout"
        }
      ]
    },
    {
      "cell_type": "markdown",
      "metadata": {
        "id": "lK_xNOEOp07k"
      },
      "source": [
        "## MODEL SAVE"
      ]
    },
    {
      "cell_type": "code",
      "metadata": {
        "id": "q2v89BjIo2sa"
      },
      "source": [
        "model.save('flowers_applications_fit.h5')"
      ],
      "execution_count": 163,
      "outputs": []
    },
    {
      "cell_type": "markdown",
      "metadata": {
        "id": "qcYMQmYup36p"
      },
      "source": [
        "## VISUALIZATION"
      ]
    },
    {
      "cell_type": "code",
      "metadata": {
        "id": "vf9clKzHXOzJ",
        "outputId": "9615fc93-b78b-49ce-ad90-b9eabda3d9fd",
        "colab": {
          "base_uri": "https://localhost:8080/",
          "height": 530
        }
      },
      "source": [
        "plt.plot(hist.history[\"loss\"], label=\"Train Loss\")\n",
        "plt.plot(hist.history[\"val_loss\"], label=\"Validation Loss\")\n",
        "plt.legend()\n",
        "plt.show()\n",
        "\n",
        "plt.figure()\n",
        "\n",
        "plt.plot(hist.history[\"accuracy\"], label=\"Train Accuracy\")\n",
        "plt.plot(hist.history[\"val_accuracy\"], label=\"Validation Accuracy\")\n",
        "plt.legend()\n",
        "plt.show()"
      ],
      "execution_count": 166,
      "outputs": [
        {
          "output_type": "stream",
          "text": [
            "dict_keys(['loss', 'accuracy', 'val_loss', 'val_accuracy'])\n"
          ],
          "name": "stdout"
        },
        {
          "output_type": "display_data",
          "data": {
            "image/png": "[encoded data removed]",
            "text/plain": [
              "<Figure size 432x288 with 1 Axes>"
            ]
          },
          "metadata": {
            "tags": [],
            "needs_background": "light"
          }
        },
        {
          "output_type": "display_data",
          "data": {
            "image/png": "[encoded data removed]",
            "text/plain": [
              "<Figure size 432x288 with 1 Axes>"
            ]
          },
          "metadata": {
            "tags": [],
            "needs_background": "light"
          }
        }
      ]
    },
    {
      "cell_type": "code",
      "metadata": {
        "id": "blqqMeqbb7eB"
      },
      "source": [
        ""
      ],
      "execution_count": null,
      "outputs": []
    }
  ]
}